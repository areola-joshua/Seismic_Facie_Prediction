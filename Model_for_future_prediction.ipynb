{
  "cells": [
    {
      "cell_type": "markdown",
      "metadata": {
        "id": "5LEKn1E0NbqA"
      },
      "source": [
        "# Model for future Prediction for seismic Facies"
      ]
    },
    {
      "cell_type": "code",
      "source": [
        "import pickle\n",
        "import numpy as np\n",
        "import pandas as pd\n",
        "from sklearn.model_selection import train_test_split\n",
        "import cv2\n",
        "import os\n",
        "\n",
        "# Step 1: Load the pre-trained model\n",
        "# The model was saved as 'seismic_model.pkl', so I load it from this file\n",
        "with open('seismic_model.pkl', 'rb') as file:\n",
        "    model = pickle.load(file)\n",
        "\n",
        "# Step 2: Load the new test data\n",
        "# Assuming you have the test data in 'test_data.npy' (features) and 'test_labels.npy' (if available for evaluation)\n",
        "# Modify these paths accordingly if you're using a different file structure\n",
        "test_data = np.load('test_data.npy')  # This should be your test features\n",
        "test_labels = np.load('test_labels.npy')  # Optional: For evaluating the model performance if labels are available\n",
        "\n",
        "# Step 3: Preprocess the test data\n",
        "# Depending on how the model was trained, you might need to resize, normalize, or reshape the test data\n",
        "# Below is an example for resizing and normalizing images:\n",
        "test_data_resized = []\n",
        "for i in range(test_data.shape[0]):\n",
        "    img = test_data[i]  # Assuming each image is 2D\n",
        "    img_resized = cv2.resize(img, (128, 128))  # Resize the image to match model input dimensions\n",
        "    img_resized = np.expand_dims(img_resized, axis=2)  # Add a channel dimension\n",
        "    img_resized = img_resized.astype('float32')\n",
        "    img_resized = img_resized / np.amax(img_resized)  # Normalize to [0, 1]\n",
        "    test_data_resized.append(img_resized)\n",
        "\n",
        "# Convert the list of processed images into a NumPy array\n",
        "test_data_resized = np.asarray(test_data_resized)\n",
        "\n",
        "# Step 4: Make predictions using the loaded model\n",
        "predictions = model.predict(test_data_resized)\n",
        "\n",
        "# Step 5: Save the predictions to a CSV file\n",
        "# Convert predictions into a DataFrame for easy saving\n",
        "predictions_df = pd.DataFrame(predictions)\n",
        "\n",
        "# Save predictions to CSV (you can change the filename)\n",
        "predictions_df.to_csv('seismic_predictions.csv', index=False)\n",
        "\n",
        "# If you want to print out some predictions\n",
        "print(predictions[:10])  # Show the first 10 predictions\n",
        "\n",
        "# Step 6: Optionally, evaluate the model on the test set if you have test labels\n",
        "if 'test_labels' in locals():  # If the test labels are available\n",
        "    from sklearn.metrics import accuracy_score, mean_squared_error, r2_score\n",
        "\n",
        "    # For classification tasks (if applicable)\n",
        "    accuracy = accuracy_score(test_labels, np.argmax(predictions, axis=-1))\n",
        "    print(f\"Accuracy: {accuracy:.4f}\")\n",
        "\n",
        "    # For regression tasks, use metrics like MSE, RMSE, or R^2\n",
        "    mse = mean_squared_error(test_labels, predictions)\n",
        "    rmse = np.sqrt(mse)\n",
        "    r2 = r2_score(test_labels, predictions)\n",
        "    print(f\"MSE: {mse:.4f}, RMSE: {rmse:.4f}, R^2: {r2:.4f}\")"
      ],
      "metadata": {
        "id": "oopZ27sn5umZ"
      },
      "execution_count": null,
      "outputs": []
    }
  ],
  "metadata": {
    "kernelspec": {
      "display_name": "Python 3",
      "language": "python",
      "name": "python3"
    },
    "language_info": {
      "codemirror_mode": {
        "name": "ipython",
        "version": 3
      },
      "file_extension": ".py",
      "mimetype": "text/x-python",
      "name": "python",
      "nbconvert_exporter": "python",
      "pygments_lexer": "ipython3",
      "version": "3.6.5"
    },
    "varInspector": {
      "cols": {
        "lenName": 16,
        "lenType": 16,
        "lenVar": 40
      },
      "kernels_config": {
        "python": {
          "delete_cmd_postfix": "",
          "delete_cmd_prefix": "del ",
          "library": "var_list.py",
          "varRefreshCmd": "print(var_dic_list())"
        },
        "r": {
          "delete_cmd_postfix": ") ",
          "delete_cmd_prefix": "rm(",
          "library": "var_list.r",
          "varRefreshCmd": "cat(var_dic_list()) "
        }
      },
      "oldHeight": 326.434818,
      "position": {
        "height": "40px",
        "left": "906.9px",
        "right": "20px",
        "top": "76.85px",
        "width": "615.412px"
      },
      "types_to_exclude": [
        "module",
        "function",
        "builtin_function_or_method",
        "instance",
        "_Feature"
      ],
      "varInspector_section_display": "none",
      "window_display": true
    },
    "colab": {
      "provenance": []
    }
  },
  "nbformat": 4,
  "nbformat_minor": 0
}